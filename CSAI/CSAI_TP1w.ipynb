{
  "nbformat": 4,
  "nbformat_minor": 0,
  "metadata": {
    "colab": {
      "provenance": [],
      "authorship_tag": "ABX9TyN6H1ME/EwBrODdl7+wkL8v",
      "include_colab_link": true
    },
    "kernelspec": {
      "name": "python3",
      "display_name": "Python 3"
    },
    "language_info": {
      "name": "python"
    }
  },
  "cells": [
    {
      "cell_type": "markdown",
      "metadata": {
        "id": "view-in-github",
        "colab_type": "text"
      },
      "source": [
        "<a href=\"https://colab.research.google.com/github/ab2gbl/WANLP_PROJECT/blob/main/CSAI/CSAI_TP1w.ipynb\" target=\"_parent\"><img src=\"https://colab.research.google.com/assets/colab-badge.svg\" alt=\"Open In Colab\"/></a>"
      ]
    },
    {
      "cell_type": "code",
      "execution_count": 2,
      "metadata": {
        "id": "RZwCQ2ga56bL"
      },
      "outputs": [],
      "source": [
        "def f(x):\n",
        "  return x\n"
      ]
    },
    {
      "cell_type": "markdown",
      "source": [
        "# Init Population"
      ],
      "metadata": {
        "id": "mMaFX6uu-p8K"
      }
    },
    {
      "cell_type": "code",
      "source": [
        "import random\n",
        "\n",
        "def init_population(pop_size):\n",
        "  p = [[random.randint(0, 1) for i in range(5)] for i in range(pop_size)]\n",
        "  return p\n",
        "\n"
      ],
      "metadata": {
        "id": "92wbRsPe63aG"
      },
      "execution_count": 12,
      "outputs": []
    },
    {
      "cell_type": "code",
      "source": [
        "pop = init_population(4)\n",
        "print(pop)"
      ],
      "metadata": {
        "colab": {
          "base_uri": "https://localhost:8080/"
        },
        "id": "YRIoOn9K7jcn",
        "outputId": "d49d833a-8ff5-431e-d14f-20e802aa6edc"
      },
      "execution_count": 13,
      "outputs": [
        {
          "output_type": "stream",
          "name": "stdout",
          "text": [
            "[[1, 0, 0, 1, 1], [0, 0, 0, 0, 1], [0, 1, 0, 1, 0], [1, 1, 0, 0, 1]]\n"
          ]
        }
      ]
    },
    {
      "cell_type": "markdown",
      "source": [
        "# Mutation"
      ],
      "metadata": {
        "id": "a-nEmfcE-zq0"
      }
    },
    {
      "cell_type": "code",
      "source": [
        "def mutate(indev):\n",
        "  for i in range(len(indev)):\n",
        "    if random.random() < 0.2:\n",
        "      indev[i] = 1 - indev[i]\n",
        "  return indev\n",
        "\n",
        "def mutate_population(population):\n",
        "  return [mutate (indev) for indev in population]\n"
      ],
      "metadata": {
        "id": "euOmnUpc8n89"
      },
      "execution_count": 21,
      "outputs": []
    },
    {
      "cell_type": "code",
      "source": [
        "mutated_pop = mutate_population(pop)\n",
        "print(mutated_pop)"
      ],
      "metadata": {
        "colab": {
          "base_uri": "https://localhost:8080/"
        },
        "id": "oZqlbm4XBmhk",
        "outputId": "69555a70-84f5-4a79-9bf3-9a708fb3a5b1"
      },
      "execution_count": 22,
      "outputs": [
        {
          "output_type": "stream",
          "name": "stdout",
          "text": [
            "[[1, 0, 0, 1, 1], [0, 0, 0, 1, 0], [0, 1, 0, 1, 0], [1, 1, 0, 0, 1]]\n"
          ]
        }
      ]
    }
  ]
}